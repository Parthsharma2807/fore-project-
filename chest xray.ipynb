{
 "cells": [
  {
   "cell_type": "code",
   "execution_count": 4,
   "id": "e737d621",
   "metadata": {},
   "outputs": [],
   "source": [
    "import pandas as pd\n",
    "from tensorflow.keras.preprocessing.image import ImageDataGenerator\n",
    "from tensorflow.keras.models import Sequential\n",
    "from tensorflow.keras.layers import Conv2D, MaxPool2D\n",
    "from tensorflow.keras.layers import Activation, Dropout, Flatten, Dense, Input\n",
    "import os\n",
    "import matplotlib.pyplot as plt\n",
    "import numpy as np\n",
    "from sklearn import metrics\n",
    "import time"
   ]
  },
  {
   "cell_type": "code",
   "execution_count": 5,
   "id": "c5f26de7",
   "metadata": {},
   "outputs": [],
   "source": [
    "from IPython.core.interactiveshell import InteractiveShell\n",
    "InteractiveShell.ast_node_interactivity = \"all\""
   ]
  },
  {
   "cell_type": "code",
   "execution_count": 41,
   "id": "c661eefc",
   "metadata": {},
   "outputs": [],
   "source": [
    "train_data_dir = 'D:/chest_xray/train'\n",
    "test_data_dir =  'D:/chest_xray/test'\n",
    "validation_data_dir = 'D:/chest_xray/val'"
   ]
  },
  {
   "cell_type": "code",
   "execution_count": 9,
   "id": "45d0a138",
   "metadata": {},
   "outputs": [],
   "source": [
    "img_width, img_height = 150, 150"
   ]
  },
  {
   "cell_type": "code",
   "execution_count": 10,
   "id": "e6a82b9c",
   "metadata": {},
   "outputs": [],
   "source": [
    "nb_train_samples = 2000 "
   ]
  },
  {
   "cell_type": "code",
   "execution_count": 11,
   "id": "4e5ee526",
   "metadata": {},
   "outputs": [],
   "source": [
    "nb_validation_samples = 800 "
   ]
  },
  {
   "cell_type": "code",
   "execution_count": 12,
   "id": "19132354",
   "metadata": {},
   "outputs": [],
   "source": [
    "batch_size = 16"
   ]
  },
  {
   "cell_type": "code",
   "execution_count": 13,
   "id": "139c4e73",
   "metadata": {},
   "outputs": [],
   "source": [
    "epochs = 5"
   ]
  },
  {
   "cell_type": "code",
   "execution_count": 14,
   "id": "5e6d6a47",
   "metadata": {},
   "outputs": [],
   "source": [
    "test_generator_samples = 300"
   ]
  },
  {
   "cell_type": "code",
   "execution_count": 15,
   "id": "9557cf99",
   "metadata": {},
   "outputs": [],
   "source": [
    "test_batch_size = 25 "
   ]
  },
  {
   "cell_type": "code",
   "execution_count": 16,
   "id": "f5305a8d",
   "metadata": {},
   "outputs": [],
   "source": [
    "input_shape = (img_width, img_height, 3)"
   ]
  },
  {
   "cell_type": "code",
   "execution_count": 52,
   "id": "1ef93e45",
   "metadata": {},
   "outputs": [],
   "source": [
    "model = Sequential()"
   ]
  },
  {
   "cell_type": "code",
   "execution_count": 53,
   "id": "c4b817b4",
   "metadata": {},
   "outputs": [],
   "source": [
    "model.add( Input(shape = (img_width,img_height, 3) ))"
   ]
  },
  {
   "cell_type": "code",
   "execution_count": 54,
   "id": "fac82c77",
   "metadata": {},
   "outputs": [],
   "source": [
    "\n",
    "model.add(Conv2D(filters=64,kernel_size=3,strides= 2,padding='same',activation= 'relu' ))"
   ]
  },
  {
   "cell_type": "code",
   "execution_count": 55,
   "id": "d33e4db5",
   "metadata": {},
   "outputs": [],
   "source": [
    "model.add(MaxPool2D())"
   ]
  },
  {
   "cell_type": "code",
   "execution_count": 56,
   "id": "23567f3a",
   "metadata": {},
   "outputs": [],
   "source": [
    "\n",
    "model.add(Conv2D(filters=32,kernel_size=3,activation= 'relu' ))"
   ]
  },
  {
   "cell_type": "code",
   "execution_count": 57,
   "id": "cadce268",
   "metadata": {},
   "outputs": [],
   "source": [
    "model.add(MaxPool2D())"
   ]
  },
  {
   "cell_type": "code",
   "execution_count": 58,
   "id": "8aaa1132",
   "metadata": {},
   "outputs": [
    {
     "name": "stdout",
     "output_type": "stream",
     "text": [
      "Model: \"sequential_1\"\n",
      "_________________________________________________________________\n",
      " Layer (type)                Output Shape              Param #   \n",
      "=================================================================\n",
      " conv2d_2 (Conv2D)           (None, 75, 75, 64)        1792      \n",
      "                                                                 \n",
      " max_pooling2d_2 (MaxPooling  (None, 37, 37, 64)       0         \n",
      " 2D)                                                             \n",
      "                                                                 \n",
      " conv2d_3 (Conv2D)           (None, 35, 35, 32)        18464     \n",
      "                                                                 \n",
      " max_pooling2d_3 (MaxPooling  (None, 17, 17, 32)       0         \n",
      " 2D)                                                             \n",
      "                                                                 \n",
      "=================================================================\n",
      "Total params: 20,256\n",
      "Trainable params: 20,256\n",
      "Non-trainable params: 0\n",
      "_________________________________________________________________\n"
     ]
    }
   ],
   "source": [
    "model.summary()"
   ]
  },
  {
   "cell_type": "code",
   "execution_count": 59,
   "id": "ac791a6b",
   "metadata": {},
   "outputs": [],
   "source": [
    "model.add(Flatten())"
   ]
  },
  {
   "cell_type": "code",
   "execution_count": 60,
   "id": "e7f1a9e1",
   "metadata": {},
   "outputs": [],
   "source": [
    "model.add(Dense(256, activation='relu'))"
   ]
  },
  {
   "cell_type": "code",
   "execution_count": 61,
   "id": "54fd16a9",
   "metadata": {},
   "outputs": [],
   "source": [
    "model.add(Dropout(rate=0.2))"
   ]
  },
  {
   "cell_type": "code",
   "execution_count": 62,
   "id": "5cc243ea",
   "metadata": {},
   "outputs": [],
   "source": [
    "model.add(Dense(64, activation='relu'))"
   ]
  },
  {
   "cell_type": "code",
   "execution_count": 63,
   "id": "c7f7bd99",
   "metadata": {},
   "outputs": [],
   "source": [
    "model.add(Dropout(rate=0.5))"
   ]
  },
  {
   "cell_type": "code",
   "execution_count": 64,
   "id": "c6776782",
   "metadata": {},
   "outputs": [],
   "source": [
    "\n",
    "model.add(Dense(1, activation='sigmoid'))"
   ]
  },
  {
   "cell_type": "code",
   "execution_count": 65,
   "id": "b81d1a78",
   "metadata": {},
   "outputs": [],
   "source": [
    "model.compile(loss='binary_crossentropy', optimizer= 'adam', metrics=['accuracy'])"
   ]
  },
  {
   "cell_type": "code",
   "execution_count": 66,
   "id": "477fc665",
   "metadata": {},
   "outputs": [
    {
     "name": "stdout",
     "output_type": "stream",
     "text": [
      "Model: \"sequential_1\"\n",
      "_________________________________________________________________\n",
      " Layer (type)                Output Shape              Param #   \n",
      "=================================================================\n",
      " conv2d_2 (Conv2D)           (None, 75, 75, 64)        1792      \n",
      "                                                                 \n",
      " max_pooling2d_2 (MaxPooling  (None, 37, 37, 64)       0         \n",
      " 2D)                                                             \n",
      "                                                                 \n",
      " conv2d_3 (Conv2D)           (None, 35, 35, 32)        18464     \n",
      "                                                                 \n",
      " max_pooling2d_3 (MaxPooling  (None, 17, 17, 32)       0         \n",
      " 2D)                                                             \n",
      "                                                                 \n",
      " flatten_1 (Flatten)         (None, 9248)              0         \n",
      "                                                                 \n",
      " dense_3 (Dense)             (None, 256)               2367744   \n",
      "                                                                 \n",
      " dropout_2 (Dropout)         (None, 256)               0         \n",
      "                                                                 \n",
      " dense_4 (Dense)             (None, 64)                16448     \n",
      "                                                                 \n",
      " dropout_3 (Dropout)         (None, 64)                0         \n",
      "                                                                 \n",
      " dense_5 (Dense)             (None, 1)                 65        \n",
      "                                                                 \n",
      "=================================================================\n",
      "Total params: 2,404,513\n",
      "Trainable params: 2,404,513\n",
      "Non-trainable params: 0\n",
      "_________________________________________________________________\n"
     ]
    }
   ],
   "source": [
    "model.summary()"
   ]
  },
  {
   "cell_type": "code",
   "execution_count": null,
   "id": "2150f893",
   "metadata": {},
   "outputs": [],
   "source": []
  },
  {
   "cell_type": "code",
   "execution_count": 67,
   "id": "3796214c",
   "metadata": {},
   "outputs": [],
   "source": [
    "tr_dtgen = ImageDataGenerator(\n",
    "                              rescale=1. / 255,      \n",
    "                              shear_range=0.2,       \n",
    "                              zoom_range=0.2,\n",
    "                              horizontal_flip=True,\n",
    "                              )"
   ]
  },
  {
   "cell_type": "code",
   "execution_count": 68,
   "id": "b27666ea",
   "metadata": {},
   "outputs": [
    {
     "name": "stdout",
     "output_type": "stream",
     "text": [
      "Found 5216 images belonging to 2 classes.\n"
     ]
    }
   ],
   "source": [
    "train_generator = tr_dtgen.flow_from_directory(\n",
    "                                               train_data_dir,       \n",
    "                                               target_size=(img_width, img_height),  \n",
    "                                               batch_size=batch_size,  \n",
    "                                               class_mode='binary')"
   ]
  },
  {
   "cell_type": "code",
   "execution_count": 69,
   "id": "a8197a6c",
   "metadata": {},
   "outputs": [],
   "source": [
    "val_dtgen = ImageDataGenerator(rescale=1. / 255)"
   ]
  },
  {
   "cell_type": "code",
   "execution_count": 70,
   "id": "056fb319",
   "metadata": {},
   "outputs": [
    {
     "name": "stdout",
     "output_type": "stream",
     "text": [
      "Found 16 images belonging to 2 classes.\n"
     ]
    }
   ],
   "source": [
    "validation_generator = val_dtgen.flow_from_directory(\n",
    "                                                     validation_data_dir,\n",
    "                                                     target_size=(img_width, img_height),   \n",
    "                                                     batch_size=batch_size,    \n",
    "                                                     class_mode='binary'  \n",
    "                                                     )"
   ]
  },
  {
   "cell_type": "code",
   "execution_count": 74,
   "id": "c796e4d0",
   "metadata": {},
   "outputs": [
    {
     "name": "stdout",
     "output_type": "stream",
     "text": [
      "Epoch 1/2\n"
     ]
    },
    {
     "name": "stderr",
     "output_type": "stream",
     "text": [
      "C:\\Users\\163100\\AppData\\Local\\Temp\\ipykernel_7136\\665502559.py:2: UserWarning: `Model.fit_generator` is deprecated and will be removed in a future version. Please use `Model.fit`, which supports generators.\n",
      "  history = model.fit_generator(\n"
     ]
    },
    {
     "name": "stdout",
     "output_type": "stream",
     "text": [
      "125/125 [==============================] - ETA: 0s - loss: 0.2138 - accuracy: 0.9225WARNING:tensorflow:Your input ran out of data; interrupting training. Make sure that your dataset or generator can generate at least `steps_per_epoch * epochs` batches (in this case, 50 batches). You may need to use the repeat() function when building your dataset.\n",
      "125/125 [==============================] - 26s 204ms/step - loss: 0.2138 - accuracy: 0.9225 - val_loss: 0.5118 - val_accuracy: 0.7500\n",
      "Epoch 2/2\n",
      "125/125 [==============================] - 25s 203ms/step - loss: 0.2267 - accuracy: 0.9090\n"
     ]
    },
    {
     "data": {
      "text/plain": [
       "0.8549242138862609"
      ]
     },
     "execution_count": 74,
     "metadata": {},
     "output_type": "execute_result"
    }
   ],
   "source": [
    "start = time.time()\n",
    "history = model.fit_generator(\n",
    "                              generator = train_generator,\n",
    "                              steps_per_epoch=nb_train_samples // batch_size,\n",
    "                              epochs=2,\n",
    "                              validation_data=validation_generator,\n",
    "                              verbose = 1,\n",
    "                              validation_steps=nb_validation_samples // batch_size\n",
    "                              )\n",
    "\n",
    "end = time.time()\n",
    "(end - start)/60"
   ]
  },
  {
   "cell_type": "code",
   "execution_count": 77,
   "id": "a57acd6b",
   "metadata": {},
   "outputs": [
    {
     "name": "stdout",
     "output_type": "stream",
     "text": [
      "1/4 [======>.......................] - ETA: 0s - loss: 1.0543 - accuracy: 0.6250WARNING:tensorflow:Your input ran out of data; interrupting training. Make sure that your dataset or generator can generate at least `steps_per_epoch * epochs` batches (in this case, 4 batches). You may need to use the repeat() function when building your dataset.\n",
      "4/4 [==============================] - 0s 4ms/step - loss: 1.0543 - accuracy: 0.6250\n"
     ]
    },
    {
     "data": {
      "text/plain": [
       "[1.0542699098587036, 0.625]"
      ]
     },
     "execution_count": 77,
     "metadata": {},
     "output_type": "execute_result"
    }
   ],
   "source": [
    "result = model.evaluate(\n",
    "                        validation_generator,\n",
    "                        verbose = 1,\n",
    "                        steps = 4       \n",
    "                        )\n",
    "result "
   ]
  },
  {
   "cell_type": "code",
   "execution_count": 78,
   "id": "e79bcbbd",
   "metadata": {},
   "outputs": [
    {
     "name": "stdout",
     "output_type": "stream",
     "text": [
      "1/2 [==============>...............] - ETA: 0sWARNING:tensorflow:Your input ran out of data; interrupting training. Make sure that your dataset or generator can generate at least `steps_per_epoch * epochs` batches (in this case, 2 batches). You may need to use the repeat() function when building your dataset.\n",
      "2/2 [==============================] - 0s 11ms/step\n"
     ]
    },
    {
     "data": {
      "text/plain": [
       "array([[0.9961701],\n",
       "       [0.983559 ],\n",
       "       [0.9962295],\n",
       "       [0.834793 ],\n",
       "       [0.9998859]], dtype=float32)"
      ]
     },
     "execution_count": 78,
     "metadata": {},
     "output_type": "execute_result"
    }
   ],
   "source": [
    "pred = model.predict(validation_generator, steps = 2)\n",
    "pred[:5]"
   ]
  },
  {
   "cell_type": "code",
   "execution_count": null,
   "id": "2d34d5a2",
   "metadata": {},
   "outputs": [],
   "source": []
  }
 ],
 "metadata": {
  "kernelspec": {
   "display_name": "Python 3 (ipykernel)",
   "language": "python",
   "name": "python3"
  },
  "language_info": {
   "codemirror_mode": {
    "name": "ipython",
    "version": 3
   },
   "file_extension": ".py",
   "mimetype": "text/x-python",
   "name": "python",
   "nbconvert_exporter": "python",
   "pygments_lexer": "ipython3",
   "version": "3.10.9"
  }
 },
 "nbformat": 4,
 "nbformat_minor": 5
}
